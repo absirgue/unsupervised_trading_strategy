{
 "cells": [
  {
   "cell_type": "markdown",
   "metadata": {},
   "source": [
    "Unsupervised learning in trading involves using ML techniques to analyse data and discover patterns, relationships, and structures within the data without any pre-defined label or target variable. \n",
    "\n",
    "Unsupervised learning has multiple applications to trading\n",
    "- clustering \n",
    "- dimensionality reduction \n",
    "- anomaly detection\n",
    "- market regime detection \n",
    "- portfolio optimization "
   ]
  },
  {
   "cell_type": "markdown",
   "metadata": {},
   "source": [
    "Our plan for this project:\n",
    " - Download SP500 stocks prices data\n",
    " - Calculate different technical indicators and features for each stock \n",
    " - Aggregate monthly and filter only top 150 most liquid stocks for each month\n",
    " - Calculate monthly returns for different time horizons \n",
    " - Use Fama-French Factors to calculate rolling betas for each stock \n",
    " - Train a K-Means model for each month to cluster similar stocks together\n",
    " - For each month, select assets based on a cluster and form a portfolio using Efficient Frontier max sharpe ratio portfolio optimisation \n",
    " - Visualise portfolio returns and compare with SP500 \n",
    "\n",
    "=> LIMITATION: We are using only the most recent SP500 stocks list and therefore suffer from the surviviorship bias. We should use surviviorship free data. "
   ]
  },
  {
   "cell_type": "code",
   "execution_count": null,
   "metadata": {},
   "outputs": [],
   "source": []
  }
 ],
 "metadata": {
  "language_info": {
   "name": "python"
  }
 },
 "nbformat": 4,
 "nbformat_minor": 2
}
